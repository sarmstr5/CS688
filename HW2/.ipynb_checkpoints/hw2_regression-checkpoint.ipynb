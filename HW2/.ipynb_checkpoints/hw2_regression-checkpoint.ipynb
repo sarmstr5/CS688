{
 "cells": [
  {
   "cell_type": "code",
   "execution_count": 15,
   "metadata": {
    "collapsed": false
   },
   "outputs": [
    {
     "data": {
      "text/plain": [
       "<matplotlib.axes._subplots.AxesSubplot at 0x95d2ba8>"
      ]
     },
     "execution_count": 15,
     "metadata": {},
     "output_type": "execute_result"
    },
    {
     "data": {
      "text/plain": [
       "<matplotlib.figure.Figure at 0xa8372b0>"
      ]
     },
     "metadata": {},
     "output_type": "display_data"
    },
    {
     "data": {
      "image/png": "[encoded data removed]",
      "text/plain": [
       "<matplotlib.figure.Figure at 0x980a358>"
      ]
     },
     "metadata": {},
     "output_type": "display_data"
    }
   ],
   "source": [
    "#Doing Some Stuff\n",
    "%matplotlib inline\n",
    "from pylab import *\n",
    "import pandas as pd\n",
    "import numpy as np\n",
    "\n",
    "df = pd.read_csv(\"ex1data1.txt\",header=None, names=['City Population','Profit'])\n",
    "df = df.cumsum()\n",
    "df.head()\n",
    "df_sorted = df.sort_values('City Population')\n",
    "print(df_sorted.tail())\n",
    "figure()\n",
    "df.plot(x='City Population', y ='Profit')"
   ]
  },
  {
   "cell_type": "code",
   "execution_count": 11,
   "metadata": {
    "collapsed": false
   },
   "outputs": [
    {
     "name": "stdout",
     "output_type": "stream",
     "text": [
      "    City Population  Profit\n",
      "64           18.959  17.054\n",
      "21           20.270  21.767\n",
      "69           20.341  20.992\n",
      "62           21.279  17.929\n",
      "29           22.203  24.147\n"
     ]
    },
    {
     "data": {
      "text/plain": [
       "<matplotlib.collections.PathCollection at 0x94e1860>"
      ]
     },
     "execution_count": 11,
     "metadata": {},
     "output_type": "execute_result"
    },
    {
     "data": {
      "image/png": "[encoded data removed]",
      "text/plain": [
       "<matplotlib.figure.Figure at 0x9476710>"
      ]
     },
     "metadata": {},
     "output_type": "display_data"
    }
   ],
   "source": [
    "# Problem 1 part A\n",
    "%matplotlib inline\n",
    "import pandas as pd\n",
    "import matplotlib as plt\n",
    "from pylab import *\n",
    "df = pd.read_csv(\"ex1data1.txt\",header=None, names=['City Population','Profit'])\n",
    "figure()\n",
    "plt.scatter(df['City Population'], df['Profit'])"
   ]
  },
  {
   "cell_type": "code",
   "execution_count": 29,
   "metadata": {
    "collapsed": false
   },
   "outputs": [
    {
     "name": "stdout",
     "output_type": "stream",
     "text": [
      "[-3.89578088  1.19303364]\n"
     ]
    }
   ],
   "source": [
    "# Problem 1 part b\n",
    "# Normal equation coefs = (Xtrans * X)inverted * Xtrans*y\n",
    "import pandas as pd\n",
    "import numpy as np\n",
    "df = pd.read_csv('ex1data1.txt', names=['city_population','profit'])\n",
    "df.insert(1, 'ones', 1)\n",
    "x = df[['ones','city_population']]\n",
    "y = df['profit']\n",
    "xTx = (x.T.dot(x))\n",
    "xTx_inv = np.linalg.inv(xTx)\n",
    "xTy = x.T.dot(y)\n",
    "reg_coefs = xTx_inv.dot(xTy)\n"
   ]
  },
  {
   "cell_type": "code",
   "execution_count": 12,
   "metadata": {
    "collapsed": false
   },
   "outputs": [],
   "source": []
  }
 ],
 "metadata": {
  "anaconda-cloud": {},
  "kernelspec": {
   "display_name": "Python [Root]",
   "language": "python",
   "name": "Python [Root]"
  },
  "language_info": {
   "codemirror_mode": {
    "name": "ipython",
    "version": 3
   },
   "file_extension": ".py",
   "mimetype": "text/x-python",
   "name": "python",
   "nbconvert_exporter": "python",
   "pygments_lexer": "ipython3",
   "version": "3.5.2"
  }
 },
 "nbformat": 4,
 "nbformat_minor": 0
}
